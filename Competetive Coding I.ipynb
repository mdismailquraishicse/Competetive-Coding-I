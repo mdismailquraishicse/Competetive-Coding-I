{
  "nbformat": 4,
  "nbformat_minor": 0,
  "metadata": {
    "colab": {
      "provenance": []
    },
    "kernelspec": {
      "name": "python3",
      "display_name": "Python 3"
    }
  },
  "cells": [
    {
      "cell_type": "markdown",
      "metadata": {
        "id": "XA-b8BLzYrbe"
      },
      "source": [
        "\n",
        "# Time : 1 hour\n",
        "\n",
        "# Problem Statement"
      ]
    },
    {
      "cell_type": "markdown",
      "metadata": {
        "id": "soIV-F7Wcbp3"
      },
      "source": [
        "### A student is taking a cryptography class and has found anagrams to be very useful. Two strings are anagrams of each other if the first string's letters can be rearranged to form the second string. In other words, both strings must contain the same exact letters in the same exact frequency. For example, bacdc and dcbac are anagrams, but bacdc and dcbad are not.\n",
        "\n",
        "### The student decides on an encryption scheme that involves two large strings. The encryption is dependent on the minimum number of character deletions required to make the two strings anagrams. You need to determine this number.\n",
        "\n",
        "### Given two strings, $a$ and $b$, that may or may not be of the same length, determine the minimum number of character deletions required to make $a$ and $b$ anagrams. Any characters can be deleted from either of the strings. The strings $a$ and $b$ consist of lowercase English alphabets."
      ]
    },
    {
      "cell_type": "markdown",
      "metadata": {
        "id": "TS0zgz0PcfYz"
      },
      "source": [
        "**Example**\n",
        "\n",
        "<code>a = 'cde'</code>\n",
        "\n",
        "<code>b = 'dcf' </code>"
      ]
    },
    {
      "cell_type": "markdown",
      "metadata": {
        "id": "kxZ3mdXsckZm"
      },
      "source": [
        "### Delete $e$ from $a$ and $f$ from $b$ so that the remaining strings are $cd$ and $dc$ which are anagrams. This takes 2 character deletions."
      ]
    },
    {
      "cell_type": "markdown",
      "metadata": {
        "id": "1QlkSP3KcozS"
      },
      "source": [
        "## **Function Description**\n",
        "\n",
        "### Create a <code>makeAnagram</code> function below.\n",
        "\n",
        "### **Inputs:**\n",
        "\n",
        "### string a: a string\n",
        "\n",
        "### string b: another string\n",
        "\n",
        "### **Output:**\n",
        "\n",
        "### int: the minimum total characters that must be deleted"
      ]
    },
    {
      "cell_type": "markdown",
      "metadata": {
        "id": "-woYEa44Z-Cf"
      },
      "source": [
        "# Solution"
      ]
    },
    {
      "cell_type": "code",
      "metadata": {
        "id": "au3j_9vgS8g8"
      },
      "source": [
        "a='dceaa'\n",
        "b='dcf'\n",
        "dicta = {\"a\":0,\"b\":0,\"c\":0,\"d\":0,\"e\":0,\"f\":0,\"g\":0,\"h\":0,\"i\":0,\"j\":0,\"k\":0,\"l\":0,\"m\":0,\"n\":0,\"o\":0,\"p\":0,\"q\":0,\"r\":0,\"s\":0,\"t\":0,\"u\":0,\"v\":0,\"w\":0,\"x\":0,\"y\":0,\"z\":0}\n",
        "dictb = {\"a\":0,\"b\":0,\"c\":0,\"d\":0,\"e\":0,\"f\":0,\"g\":0,\"h\":0,\"i\":0,\"j\":0,\"k\":0,\"l\":0,\"m\":0,\"n\":0,\"o\":0,\"p\":0,\"q\":0,\"r\":0,\"s\":0,\"t\":0,\"u\":0,\"v\":0,\"w\":0,\"x\":0,\"y\":0,\"z\":0}"
      ],
      "execution_count": 1,
      "outputs": []
    },
    {
      "cell_type": "code",
      "metadata": {
        "id": "owqOmGZa2uKz"
      },
      "source": [
        "cont = a.count('a')\n",
        "dicta.update({\"a\":cont})\n",
        "cont = a.count('b')\n",
        "dicta.update({\"b\":cont})\n",
        "cont = a.count('c')\n",
        "dicta.update({\"c\":cont})\n",
        "cont = a.count('d')\n",
        "dicta.update({\"d\":cont})\n",
        "cont = a.count('e')\n",
        "dicta.update({\"e\":cont})\n",
        "cont = a.count('f')\n",
        "dicta.update({\"f\":cont})\n",
        "cont = a.count('g')\n",
        "dicta.update({\"g\":cont})\n",
        "cont = a.count('h')\n",
        "dicta.update({\"h\":cont})\n",
        "cont = a.count('i')\n",
        "dicta.update({\"i\":cont})\n",
        "cont = a.count('j')\n",
        "dicta.update({\"j\":cont})\n",
        "cont = a.count('k')\n",
        "dicta.update({\"k\":cont})\n",
        "cont = a.count('l')\n",
        "dicta.update({\"l\":cont})\n",
        "cont = a.count('m')\n",
        "dicta.update({\"m\":cont})\n",
        "cont = a.count('n')\n",
        "dicta.update({\"n\":cont})\n",
        "cont = a.count('o')\n",
        "dicta.update({\"o\":cont})\n",
        "cont = a.count('p')\n",
        "dicta.update({\"p\":cont})\n",
        "cont = a.count('q')\n",
        "dicta.update({\"q\":cont})\n",
        "cont = a.count('r')\n",
        "dicta.update({\"r\":cont})\n",
        "cont = a.count('s')\n",
        "dicta.update({\"s\":cont})\n",
        "cont = a.count('t')\n",
        "dicta.update({\"t\":cont})\n",
        "cont = a.count('u')\n",
        "dicta.update({\"u\":cont})\n",
        "cont = a.count('v')\n",
        "dicta.update({\"v\":cont})\n",
        "cont = a.count('w')\n",
        "dicta.update({\"w\":cont})\n",
        "cont = a.count('x')\n",
        "dicta.update({\"x\":cont})\n",
        "cont = a.count('y')\n",
        "dicta.update({\"y\":cont})\n",
        "cont = a.count('z')\n",
        "dicta.update({\"z\":cont})\n"
      ],
      "execution_count": 2,
      "outputs": []
    },
    {
      "cell_type": "code",
      "metadata": {
        "id": "NvJ91h7Rcdz8"
      },
      "source": [
        "cont = b.count('a')\n",
        "dictb.update({\"a\":cont})\n",
        "cont = b.count('b')\n",
        "dictb.update({\"b\":cont})\n",
        "cont = b.count('c')\n",
        "dictb.update({\"c\":cont})\n",
        "cont = b.count('d')\n",
        "dictb.update({\"d\":cont})\n",
        "cont = b.count('e')\n",
        "dictb.update({\"e\":cont})\n",
        "cont = b.count('f')\n",
        "dictb.update({\"f\":cont})\n",
        "cont = b.count('g')\n",
        "dictb.update({\"g\":cont})\n",
        "cont = b.count('h')\n",
        "dictb.update({\"h\":cont})\n",
        "cont = b.count('i')\n",
        "dictb.update({\"i\":cont})\n",
        "cont = b.count('j')\n",
        "dictb.update({\"j\":cont})\n",
        "cont = b.count('k')\n",
        "dictb.update({\"k\":cont})\n",
        "cont = b.count('l')\n",
        "dictb.update({\"l\":cont})\n",
        "cont = b.count('m')\n",
        "dictb.update({\"m\":cont})\n",
        "cont = b.count('n')\n",
        "dictb.update({\"n\":cont})\n",
        "cont = b.count('o')\n",
        "dictb.update({\"o\":cont})\n",
        "cont = b.count('p')\n",
        "dictb.update({\"p\":cont})\n",
        "cont = b.count('q')\n",
        "dictb.update({\"q\":cont})\n",
        "cont = b.count('r')\n",
        "dictb.update({\"r\":cont})\n",
        "cont = b.count('s')\n",
        "dictb.update({\"s\":cont})\n",
        "cont = b.count('t')\n",
        "dictb.update({\"t\":cont})\n",
        "cont = b.count('u')\n",
        "dictb.update({\"u\":cont})\n",
        "cont = b.count('v')\n",
        "dictb.update({\"v\":cont})\n",
        "cont = b.count('w')\n",
        "dictb.update({\"w\":cont})\n",
        "cont = b.count('x')\n",
        "dictb.update({\"x\":cont})\n",
        "cont = b.count('y')\n",
        "dictb.update({\"y\":cont})\n",
        "cont = b.count('z')\n",
        "dictb.update({\"z\":cont})"
      ],
      "execution_count": 3,
      "outputs": []
    },
    {
      "cell_type": "code",
      "metadata": {
        "id": "sJ6O2MtIZ9dP",
        "colab": {
          "base_uri": "https://localhost:8080/"
        },
        "outputId": "6687acf5-cc3f-4d53-81e8-3b0e66a753eb"
      },
      "source": [
        "print(dicta)\n",
        "print(dictb)\n",
        "\n"
      ],
      "execution_count": 4,
      "outputs": [
        {
          "output_type": "stream",
          "name": "stdout",
          "text": [
            "{'a': 2, 'b': 0, 'c': 1, 'd': 1, 'e': 1, 'f': 0, 'g': 0, 'h': 0, 'i': 0, 'j': 0, 'k': 0, 'l': 0, 'm': 0, 'n': 0, 'o': 0, 'p': 0, 'q': 0, 'r': 0, 's': 0, 't': 0, 'u': 0, 'v': 0, 'w': 0, 'x': 0, 'y': 0, 'z': 0}\n",
            "{'a': 0, 'b': 0, 'c': 1, 'd': 1, 'e': 0, 'f': 1, 'g': 0, 'h': 0, 'i': 0, 'j': 0, 'k': 0, 'l': 0, 'm': 0, 'n': 0, 'o': 0, 'p': 0, 'q': 0, 'r': 0, 's': 0, 't': 0, 'u': 0, 'v': 0, 'w': 0, 'x': 0, 'y': 0, 'z': 0}\n"
          ]
        }
      ]
    },
    {
      "cell_type": "code",
      "metadata": {
        "id": "Jtnvk7VGRN-W"
      },
      "source": [
        "def makeAnagram(a,b):\n",
        "  global dicta\n",
        "  global dictb\n",
        "  for i,j in dicta.items():\n",
        "\n",
        "    if dicta[i] == dictb[i]:\n",
        "      pass\n",
        "    elif dicta[i] > dictb[i]:\n",
        "      \n",
        "      if dicta[i] == 0:\n",
        "        k = 0\n",
        "        dictb.update({i:k})\n",
        "      else:\n",
        "        k = dictb[i]\n",
        "        dicta.update({i:k})\n",
        "    else:\n",
        "      if dictb[i] == 0:\n",
        "        k = 0\n",
        "        dicta.update({i:k})\n",
        "      else:\n",
        "        k = dicta[i]\n",
        "        dictb.update({i:k})\n",
        "      "
      ],
      "execution_count": 5,
      "outputs": []
    },
    {
      "cell_type": "code",
      "metadata": {
        "id": "COgSp7CXYczM"
      },
      "source": [
        "makeAnagram(a,b)"
      ],
      "execution_count": 6,
      "outputs": []
    },
    {
      "cell_type": "code",
      "metadata": {
        "id": "QjXkwLD9SkaF",
        "colab": {
          "base_uri": "https://localhost:8080/"
        },
        "outputId": "850d09a7-4528-4ee5-a894-d8ce4fc1fa8a"
      },
      "source": [
        "print(dicta)\n",
        "print(dictb)"
      ],
      "execution_count": 7,
      "outputs": [
        {
          "output_type": "stream",
          "name": "stdout",
          "text": [
            "{'a': 0, 'b': 0, 'c': 1, 'd': 1, 'e': 0, 'f': 0, 'g': 0, 'h': 0, 'i': 0, 'j': 0, 'k': 0, 'l': 0, 'm': 0, 'n': 0, 'o': 0, 'p': 0, 'q': 0, 'r': 0, 's': 0, 't': 0, 'u': 0, 'v': 0, 'w': 0, 'x': 0, 'y': 0, 'z': 0}\n",
            "{'a': 0, 'b': 0, 'c': 1, 'd': 1, 'e': 0, 'f': 0, 'g': 0, 'h': 0, 'i': 0, 'j': 0, 'k': 0, 'l': 0, 'm': 0, 'n': 0, 'o': 0, 'p': 0, 'q': 0, 'r': 0, 's': 0, 't': 0, 'u': 0, 'v': 0, 'w': 0, 'x': 0, 'y': 0, 'z': 0}\n"
          ]
        }
      ]
    },
    {
      "cell_type": "code",
      "metadata": {
        "id": "T9L0FwuQmAv1"
      },
      "source": [],
      "execution_count": 7,
      "outputs": []
    }
  ]
}